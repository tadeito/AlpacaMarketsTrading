{
 "cells": [
  {
   "cell_type": "markdown",
   "id": "23eb9eed-b1c7-45ca-926d-25ba0fb12603",
   "metadata": {},
   "source": [
    "# Open, Close and manage trades through Alpaca Markets API\n",
    "\n",
    "this is based in a tutorial taken from: https://youtu.be/iF7osyiDkBY?si=bEFoR5hqZViIhFvJ"
   ]
  },
  {
   "cell_type": "code",
   "execution_count": 1,
   "id": "f3242423-9449-4b65-9401-e31a538f7c1d",
   "metadata": {
    "collapsed": true,
    "jupyter": {
     "outputs_hidden": true
    }
   },
   "outputs": [
    {
     "name": "stdout",
     "output_type": "stream",
     "text": [
      "alpaca-py==0.24.0\n",
      "annotated-types==0.7.0\n",
      "anyio==4.4.0\n",
      "argon2-cffi==23.1.0\n",
      "argon2-cffi-bindings==21.2.0\n",
      "arrow==1.3.0\n",
      "asttokens==2.4.1\n",
      "async-lru==2.0.4\n",
      "attrs==23.2.0\n",
      "Babel==2.15.0\n",
      "beautifulsoup4==4.12.3\n",
      "bleach==6.1.0\n",
      "certifi==2024.6.2\n",
      "cffi==1.16.0\n",
      "charset-normalizer==3.3.2\n",
      "colorama==0.4.6\n",
      "comm==0.2.2\n",
      "contourpy==1.2.1\n",
      "cycler==0.12.1\n",
      "DateTime==5.5\n",
      "debugpy==1.8.1\n",
      "decorator==5.1.1\n",
      "defusedxml==0.7.1\n",
      "executing==2.0.1\n",
      "fastjsonschema==2.20.0\n",
      "fonttools==4.53.0\n",
      "fqdn==1.5.1\n",
      "h11==0.14.0\n",
      "httpcore==1.0.5\n",
      "httpx==0.27.0\n",
      "idna==3.7\n",
      "ipykernel==6.29.4\n",
      "ipython==8.25.0\n",
      "isoduration==20.11.0\n",
      "jedi==0.19.1\n",
      "Jinja2==3.1.4\n",
      "json5==0.9.25\n",
      "jsonpointer==3.0.0\n",
      "jsonschema==4.22.0\n",
      "jsonschema-specifications==2023.12.1\n",
      "jupyter-events==0.10.0\n",
      "jupyter-lsp==2.2.5\n",
      "jupyter_client==8.6.2\n",
      "jupyter_core==5.7.2\n",
      "jupyter_server==2.14.1\n",
      "jupyter_server_terminals==0.5.3\n",
      "jupyterlab==4.2.2\n",
      "jupyterlab_pygments==0.3.0\n",
      "jupyterlab_server==2.27.2\n",
      "kiwisolver==1.4.5\n",
      "MarkupSafe==2.1.5\n",
      "matplotlib==3.9.1\n",
      "matplotlib-inline==0.1.7\n",
      "mistune==3.0.2\n",
      "msgpack==1.0.8\n",
      "nbclient==0.10.0\n",
      "nbconvert==7.16.4\n",
      "nbformat==5.10.4\n",
      "nest-asyncio==1.6.0\n",
      "notebook==7.2.1\n",
      "notebook_shim==0.2.4\n",
      "numpy==2.0.0\n",
      "overrides==7.7.0\n",
      "packaging==24.1\n",
      "pandas==2.2.2\n",
      "pandocfilters==1.5.1\n",
      "parso==0.8.4\n",
      "patsy==0.5.6\n",
      "pillow==10.4.0\n",
      "platformdirs==4.2.2\n",
      "prometheus_client==0.20.0\n",
      "prompt_toolkit==3.0.47\n",
      "psutil==6.0.0\n",
      "pure-eval==0.2.2\n",
      "pycparser==2.22\n",
      "pydantic==2.7.4\n",
      "pydantic_core==2.18.4\n",
      "Pygments==2.18.0\n",
      "pyparsing==3.1.2\n",
      "python-dateutil==2.9.0.post0\n",
      "python-json-logger==2.0.7\n",
      "pytz==2024.1\n",
      "pywin32==306\n",
      "pywinpty==2.0.13\n",
      "PyYAML==6.0.1\n",
      "pyzmq==26.0.3\n",
      "referencing==0.35.1\n",
      "requests==2.32.3\n",
      "rfc3339-validator==0.1.4\n",
      "rfc3986-validator==0.1.1\n",
      "rpds-py==0.18.1\n",
      "scipy==1.14.0\n",
      "Send2Trash==1.8.3\n",
      "setuptools==70.1.0\n",
      "six==1.16.0\n",
      "sniffio==1.3.1\n",
      "soupsieve==2.5\n",
      "sseclient-py==1.8.0\n",
      "stack-data==0.6.3\n",
      "statsmodels==0.14.2\n",
      "terminado==0.18.1\n",
      "tinycss2==1.3.0\n",
      "tornado==6.4.1\n",
      "traitlets==5.14.3\n",
      "types-python-dateutil==2.9.0.20240316\n",
      "typing_extensions==4.12.2\n",
      "tzdata==2024.1\n",
      "uri-template==1.3.0\n",
      "urllib3==2.2.2\n",
      "wcwidth==0.2.13\n",
      "webcolors==24.6.0\n",
      "webencodings==0.5.1\n",
      "websocket-client==1.8.0\n",
      "websockets==12.0\n",
      "wheel==0.43.0\n",
      "zope.interface==6.4.post2\n"
     ]
    }
   ],
   "source": [
    "# show installed packages\n",
    "! pip freeze\n"
   ]
  },
  {
   "cell_type": "markdown",
   "id": "f69c9be2-eab0-438b-a73e-652869677081",
   "metadata": {},
   "source": [
    "# How to get account info through the API"
   ]
  },
  {
   "cell_type": "code",
   "execution_count": 2,
   "id": "0203e56c-ba8a-40d4-8419-03def9b8b204",
   "metadata": {},
   "outputs": [],
   "source": [
    "from alpaca.trading.client import TradingClient"
   ]
  },
  {
   "cell_type": "code",
   "execution_count": 7,
   "id": "e4d77ac3-8bcd-4b9b-ac21-d84e7d8902c7",
   "metadata": {},
   "outputs": [],
   "source": [
    "API_KEY_ID     = \"PKM9097V60QKD37FUBVF\"\n",
    "API_SECRET_KEY = \"oDO7gdilqaMys0zrfHAE5gfZNoCh4tw6bBU76c8R\"\n"
   ]
  },
  {
   "cell_type": "code",
   "execution_count": 4,
   "id": "96556253-4429-4db1-9961-5e100f24c3cd",
   "metadata": {},
   "outputs": [],
   "source": [
    "trading_client = TradingClient(API_KEY_ID,API_SECRET_KEY)"
   ]
  },
  {
   "cell_type": "code",
   "execution_count": 5,
   "id": "8cb290d0-0795-4d4d-bb99-3e6d32593426",
   "metadata": {},
   "outputs": [
    {
     "name": "stdout",
     "output_type": "stream",
     "text": [
      "PA3LN4A7MRGY\n"
     ]
    }
   ],
   "source": [
    "print(trading_client.get_account().account_number)"
   ]
  },
  {
   "cell_type": "code",
   "execution_count": 6,
   "id": "2249bdd2-478a-4350-9a4c-1487c27a0d64",
   "metadata": {},
   "outputs": [
    {
     "name": "stdout",
     "output_type": "stream",
     "text": [
      "200000\n"
     ]
    }
   ],
   "source": [
    "print(trading_client.get_account().buying_power)"
   ]
  },
  {
   "cell_type": "markdown",
   "id": "a59a337f-205b-47e4-bbaa-40a9c897c38c",
   "metadata": {},
   "source": [
    "so far, keys are working and accound info can be obtained"
   ]
  },
  {
   "cell_type": "markdown",
   "id": "970a4793-a610-46fe-9cc9-611494944c28",
   "metadata": {},
   "source": [
    "# How to request historical data"
   ]
  },
  {
   "cell_type": "code",
   "execution_count": 14,
   "id": "400d7216-4e56-4524-9477-4fbd3f2df3ec",
   "metadata": {},
   "outputs": [
    {
     "name": "stdout",
     "output_type": "stream",
     "text": [
      "                                        exchange   price  size  \\\n",
      "symbol timestamp                                                 \n",
      "SPY    2024-07-11 09:30:26.413800+00:00        T  561.03  50.0   \n",
      "       2024-07-11 09:30:38.173671+00:00        P  561.03   1.0   \n",
      "       2024-07-11 09:30:38.179322+00:00        K  561.01   1.0   \n",
      "       2024-07-11 09:30:38.179334+00:00        K  561.01   1.0   \n",
      "       2024-07-11 09:30:38.193110+00:00        P  560.97  10.0   \n",
      "       2024-07-11 09:30:38.193110+00:00        P  560.97   1.0   \n",
      "       2024-07-11 09:30:38.193113+00:00        P  560.97   5.0   \n",
      "       2024-07-11 09:30:43.189738+00:00        K  560.91   1.0   \n",
      "       2024-07-11 09:31:02.275089+00:00        P  560.95  14.0   \n",
      "       2024-07-11 09:31:28.775603+00:00        K  560.98   2.0   \n",
      "       2024-07-11 09:32:03.826104+00:00        P  560.93   1.0   \n",
      "       2024-07-11 09:32:03.828371+00:00        P  560.92   1.0   \n",
      "       2024-07-11 09:32:36.850347+00:00        K  560.96  19.0   \n",
      "       2024-07-11 09:32:43.941648+00:00        P  560.95   6.0   \n",
      "       2024-07-11 09:32:43.944000+00:00        K  560.96  14.0   \n",
      "       2024-07-11 09:32:54.287704+00:00        T  560.96  11.0   \n",
      "       2024-07-11 09:33:30.957750+00:00        P  560.97  33.0   \n",
      "       2024-07-11 09:33:55.623321+00:00        P  560.96   5.0   \n",
      "       2024-07-11 09:34:17.869224+00:00        P  560.96   1.0   \n",
      "       2024-07-11 09:34:17.878156+00:00        T  560.97   2.0   \n",
      "\n",
      "                                                     id    conditions tape  \n",
      "symbol timestamp                                                            \n",
      "SPY    2024-07-11 09:30:26.413800+00:00  62879130869063  [ , F, T, I]    B  \n",
      "       2024-07-11 09:30:38.173671+00:00  52983525033029  [ , F, T, I]    B  \n",
      "       2024-07-11 09:30:38.179322+00:00  52983525033806  [ , F, T, I]    B  \n",
      "       2024-07-11 09:30:38.179334+00:00  52983525033807  [ , F, T, I]    B  \n",
      "       2024-07-11 09:30:38.193110+00:00  52983525033030  [ , F, T, I]    B  \n",
      "       2024-07-11 09:30:38.193110+00:00  52983525033031  [ , F, T, I]    B  \n",
      "       2024-07-11 09:30:38.193113+00:00  52983525033032  [ , F, T, I]    B  \n",
      "       2024-07-11 09:30:43.189738+00:00  52983525033809     [ , T, I]    B  \n",
      "       2024-07-11 09:31:02.275089+00:00  52983525033033  [ , F, T, I]    B  \n",
      "       2024-07-11 09:31:28.775603+00:00  52983525033828     [ , T, I]    B  \n",
      "       2024-07-11 09:32:03.826104+00:00  52983525033034  [ , F, T, I]    B  \n",
      "       2024-07-11 09:32:03.828371+00:00  52983525033035  [ , F, T, I]    B  \n",
      "       2024-07-11 09:32:36.850347+00:00  52983525034053     [ , T, I]    B  \n",
      "       2024-07-11 09:32:43.941648+00:00  52983525033036  [ , F, T, I]    B  \n",
      "       2024-07-11 09:32:43.944000+00:00  52983525034056  [ , F, T, I]    B  \n",
      "       2024-07-11 09:32:54.287704+00:00  62879130923358     [ , T, I]    B  \n",
      "       2024-07-11 09:33:30.957750+00:00  52983525033037     [ , T, I]    B  \n",
      "       2024-07-11 09:33:55.623321+00:00  52983525033038     [ , T, I]    B  \n",
      "       2024-07-11 09:34:17.869224+00:00  52983525033039     [ , T, I]    B  \n",
      "       2024-07-11 09:34:17.878156+00:00  62879130925637     [ , T, I]    B  \n"
     ]
    }
   ],
   "source": [
    "from alpaca.data import StockHistoricalDataClient, StockTradesRequest\n",
    "from datetime import datetime\n",
    "\n",
    "data_client = StockHistoricalDataClient(API_KEY_ID, API_SECRET_KEY)\n",
    "\n",
    "request_params = StockTradesRequest(\n",
    "    symbol_or_symbols=\"SPY\",\n",
    "    start = datetime(2024,7,11,9,30),\n",
    "    end = datetime(2024,7,11,9,35)\n",
    ")\n",
    "\n",
    "trades = data_client.get_stock_trades(request_params)\n",
    "\n",
    "print(trades.df)"
   ]
  },
  {
   "cell_type": "markdown",
   "id": "6ee5f7cf-b728-4fb6-b8f0-5734a1856e9c",
   "metadata": {},
   "source": [
    "# How to create trade orders through te API\n"
   ]
  },
  {
   "cell_type": "code",
   "execution_count": 18,
   "id": "5b3fab82-dd11-49c8-8dda-a37ac521ca51",
   "metadata": {},
   "outputs": [
    {
     "name": "stdout",
     "output_type": "stream",
     "text": [
      "id=UUID('bdce4f7f-4d4e-4aee-967d-0ab00288134a') client_order_id='b3b639cc-56f0-4570-86b2-dfcbfef62b36' created_at=datetime.datetime(2024, 7, 11, 23, 7, 16, 200672, tzinfo=TzInfo(UTC)) updated_at=datetime.datetime(2024, 7, 11, 23, 7, 16, 201117, tzinfo=TzInfo(UTC)) submitted_at=datetime.datetime(2024, 7, 11, 23, 7, 16, 200672, tzinfo=TzInfo(UTC)) filled_at=None expired_at=None canceled_at=None failed_at=None replaced_at=None replaced_by=None replaces=None asset_id=UUID('b28f4066-5c6d-479b-a2af-85dc1a8f16fb') symbol='SPY' asset_class=<AssetClass.US_EQUITY: 'us_equity'> notional=None qty='1' filled_qty='0' filled_avg_price=None order_class=<OrderClass.SIMPLE: 'simple'> order_type=<OrderType.MARKET: 'market'> type=<OrderType.MARKET: 'market'> side=<OrderSide.BUY: 'buy'> time_in_force=<TimeInForce.GTC: 'gtc'> limit_price=None stop_price=None status=<OrderStatus.ACCEPTED: 'accepted'> extended_hours=False legs=None trail_percent=None trail_price=None hwm=None\n"
     ]
    }
   ],
   "source": [
    "# Create market order request\n",
    "\n",
    "from alpaca.trading.client import TradingClient\n",
    "from alpaca.trading.requests import MarketOrderRequest\n",
    "from alpaca.trading.enums import OrderSide, TimeInForce\n",
    "\n",
    "trading_client = TradingClient(API_KEY_ID, API_SECRET_KEY)\n",
    "\n",
    "market_order_data = MarketOrderRequest(\n",
    "    symbol = \"SPY\",\n",
    "    qty = 1,\n",
    "    side = OrderSide.BUY,\n",
    "    time_in_force = TimeInForce.GTC\n",
    ")\n",
    "\n",
    "market_order = trading_client.submit_order(market_order_data)\n",
    "print(market_order)\n"
   ]
  },
  {
   "cell_type": "code",
   "execution_count": 20,
   "id": "2a193cda-8011-4e2f-ab28-86df17f6aa9c",
   "metadata": {},
   "outputs": [
    {
     "name": "stdout",
     "output_type": "stream",
     "text": [
      "id=UUID('36dc9a85-f807-4942-9110-323adab81d75') client_order_id='206c5b85-2bbe-4cfe-ae6c-9044f883ea49' created_at=datetime.datetime(2024, 7, 11, 23, 12, 26, 256569, tzinfo=TzInfo(UTC)) updated_at=datetime.datetime(2024, 7, 11, 23, 12, 26, 256978, tzinfo=TzInfo(UTC)) submitted_at=datetime.datetime(2024, 7, 11, 23, 12, 26, 256569, tzinfo=TzInfo(UTC)) filled_at=None expired_at=None canceled_at=None failed_at=None replaced_at=None replaced_by=None replaces=None asset_id=UUID('b28f4066-5c6d-479b-a2af-85dc1a8f16fb') symbol='SPY' asset_class=<AssetClass.US_EQUITY: 'us_equity'> notional=None qty='1' filled_qty='0' filled_avg_price=None order_class=<OrderClass.SIMPLE: 'simple'> order_type=<OrderType.LIMIT: 'limit'> type=<OrderType.LIMIT: 'limit'> side=<OrderSide.BUY: 'buy'> time_in_force=<TimeInForce.GTC: 'gtc'> limit_price='510' stop_price=None status=<OrderStatus.ACCEPTED: 'accepted'> extended_hours=False legs=None trail_percent=None trail_price=None hwm=None\n"
     ]
    }
   ],
   "source": [
    "# create limit order request\n",
    "from alpaca.trading.client import TradingClient\n",
    "from alpaca.trading.requests import LimitOrderRequest\n",
    "from alpaca.trading.enums import OrderSide, TimeInForce\n",
    "\n",
    "trading_client = TradingClient(API_KEY_ID,API_SECRET_KEY)\n",
    "\n",
    "limit_order_data = LimitOrderRequest(\n",
    "    symbol = \"SPY\",\n",
    "    qty = 1,\n",
    "    side = OrderSide.BUY,\n",
    "    time_in_force = TimeInForce.GTC,\n",
    "    limit_price = 510\n",
    ")\n",
    "\n",
    "limit_order = trading_client.submit_order(limit_order_data)\n",
    "print(limit_order)\n",
    "\n",
    "# An order must appear in alpaca's account page"
   ]
  },
  {
   "cell_type": "markdown",
   "id": "b27c5e52-a6ec-489c-a71b-ee089734bbbe",
   "metadata": {},
   "source": [
    "# How to get, manage and cancel orders"
   ]
  },
  {
   "cell_type": "code",
   "execution_count": 25,
   "id": "4a5c3820-66ba-4286-a2d4-eece0a0ba0a2",
   "metadata": {},
   "outputs": [
    {
     "name": "stdout",
     "output_type": "stream",
     "text": [
      "36dc9a85-f807-4942-9110-323adab81d75\n"
     ]
    }
   ],
   "source": [
    "from alpaca.trading.client import TradingClient\n",
    "from alpaca.trading.requests import GetOrdersRequest\n",
    "from alpaca.trading.enums import OrderSide, QueryOrderStatus\n",
    "\n",
    "trading_client = TradingClient(API_KEY_ID,API_SECRET_KEY)\n",
    "\n",
    "request_params = GetOrdersRequest(\n",
    "    status = QueryOrderStatus.OPEN,\n",
    ")\n",
    "\n",
    "orders = trading_client.get_orders(request_params)\n",
    "\n",
    "for order in orders:\n",
    "    print(order.id)\n",
    "\n",
    "# This corresponds to orders appearing in alpaca's account page"
   ]
  },
  {
   "cell_type": "code",
   "execution_count": 26,
   "id": "27f6fe13-1fb5-41d4-869f-77fda7c3fff5",
   "metadata": {},
   "outputs": [],
   "source": [
    "# how to cancel orders by id\n",
    "for order in orders:\n",
    "    trading_client.cancel_order_by_id(order.id)\n",
    "\n",
    "# This cancels orders and is reflected in alpaca's account page"
   ]
  },
  {
   "cell_type": "markdown",
   "id": "a7347f53-b0b5-4904-8330-5bde7cd937ce",
   "metadata": {},
   "source": [
    "# How to get, cancel and manage positions"
   ]
  },
  {
   "cell_type": "code",
   "execution_count": 28,
   "id": "9d437fbc-7da7-481a-940a-88b899acf8b0",
   "metadata": {},
   "outputs": [],
   "source": [
    "from alpaca.trading.client import TradingClient\n",
    "\n",
    "trading_client = TradingClient(API_KEY_ID,API_SECRET_KEY)\n",
    "\n",
    "positions = trading_client.get_all_positions()\n",
    "\n",
    "for position in positions:\n",
    "    print(position.symbol,position.current_price)\n",
    "\n"
   ]
  },
  {
   "cell_type": "code",
   "execution_count": null,
   "id": "46b9c575-a152-4f2a-9f73-8557aaf946c3",
   "metadata": {},
   "outputs": [],
   "source": [
    "# You can liquidate all your positions with a single line:\n",
    "\n",
    "trading_client.close_all_positions(True)\n"
   ]
  },
  {
   "cell_type": "markdown",
   "id": "d7bc8403-2ab3-47c0-a0f3-14a40d7cd39e",
   "metadata": {},
   "source": [
    "# How to stream market data"
   ]
  },
  {
   "cell_type": "code",
   "execution_count": 30,
   "id": "e662788f-e279-4047-853a-89c7394eb579",
   "metadata": {},
   "outputs": [
    {
     "ename": "AttributeError",
     "evalue": "'NoneType' object has no attribute 'is_running'",
     "output_type": "error",
     "traceback": [
      "\u001b[1;31m---------------------------------------------------------------------------\u001b[0m",
      "\u001b[1;31mRuntimeError\u001b[0m                              Traceback (most recent call last)",
      "File \u001b[1;32m~\\AppData\\Local\\Packages\\PythonSoftwareFoundation.Python.3.12_qbz5n2kfra8p0\\LocalCache\\local-packages\\Python312\\site-packages\\alpaca\\common\\websocket.py:447\u001b[0m, in \u001b[0;36mBaseStream.run\u001b[1;34m(self)\u001b[0m\n\u001b[0;32m    446\u001b[0m \u001b[38;5;28;01mtry\u001b[39;00m:\n\u001b[1;32m--> 447\u001b[0m     \u001b[43masyncio\u001b[49m\u001b[38;5;241;43m.\u001b[39;49m\u001b[43mrun\u001b[49m\u001b[43m(\u001b[49m\u001b[38;5;28;43mself\u001b[39;49m\u001b[38;5;241;43m.\u001b[39;49m\u001b[43m_run_forever\u001b[49m\u001b[43m(\u001b[49m\u001b[43m)\u001b[49m\u001b[43m)\u001b[49m\n\u001b[0;32m    448\u001b[0m \u001b[38;5;28;01mexcept\u001b[39;00m \u001b[38;5;167;01mKeyboardInterrupt\u001b[39;00m:\n",
      "File \u001b[1;32mC:\\Program Files\\WindowsApps\\PythonSoftwareFoundation.Python.3.12_3.12.1264.0_x64__qbz5n2kfra8p0\\Lib\\asyncio\\runners.py:190\u001b[0m, in \u001b[0;36mrun\u001b[1;34m(main, debug, loop_factory)\u001b[0m\n\u001b[0;32m    188\u001b[0m \u001b[38;5;28;01mif\u001b[39;00m events\u001b[38;5;241m.\u001b[39m_get_running_loop() \u001b[38;5;129;01mis\u001b[39;00m \u001b[38;5;129;01mnot\u001b[39;00m \u001b[38;5;28;01mNone\u001b[39;00m:\n\u001b[0;32m    189\u001b[0m     \u001b[38;5;66;03m# fail fast with short traceback\u001b[39;00m\n\u001b[1;32m--> 190\u001b[0m     \u001b[38;5;28;01mraise\u001b[39;00m \u001b[38;5;167;01mRuntimeError\u001b[39;00m(\n\u001b[0;32m    191\u001b[0m         \u001b[38;5;124m\"\u001b[39m\u001b[38;5;124masyncio.run() cannot be called from a running event loop\u001b[39m\u001b[38;5;124m\"\u001b[39m)\n\u001b[0;32m    193\u001b[0m \u001b[38;5;28;01mwith\u001b[39;00m Runner(debug\u001b[38;5;241m=\u001b[39mdebug, loop_factory\u001b[38;5;241m=\u001b[39mloop_factory) \u001b[38;5;28;01mas\u001b[39;00m runner:\n",
      "\u001b[1;31mRuntimeError\u001b[0m: asyncio.run() cannot be called from a running event loop",
      "\nDuring handling of the above exception, another exception occurred:\n",
      "\u001b[1;31mAttributeError\u001b[0m                            Traceback (most recent call last)",
      "Cell \u001b[1;32mIn[30], line 10\u001b[0m\n\u001b[0;32m      6\u001b[0m     \u001b[38;5;28mprint\u001b[39m(data)\n\u001b[0;32m      8\u001b[0m stream\u001b[38;5;241m.\u001b[39msubscribe_trades(handle_trade,\u001b[38;5;124m\"\u001b[39m\u001b[38;5;124mSPY\u001b[39m\u001b[38;5;124m\"\u001b[39m)\n\u001b[1;32m---> 10\u001b[0m \u001b[43mstream\u001b[49m\u001b[38;5;241;43m.\u001b[39;49m\u001b[43mrun\u001b[49m\u001b[43m(\u001b[49m\u001b[43m)\u001b[49m\n",
      "File \u001b[1;32m~\\AppData\\Local\\Packages\\PythonSoftwareFoundation.Python.3.12_qbz5n2kfra8p0\\LocalCache\\local-packages\\Python312\\site-packages\\alpaca\\common\\websocket.py:452\u001b[0m, in \u001b[0;36mBaseStream.run\u001b[1;34m(self)\u001b[0m\n\u001b[0;32m    450\u001b[0m     \u001b[38;5;28;01mpass\u001b[39;00m\n\u001b[0;32m    451\u001b[0m \u001b[38;5;28;01mfinally\u001b[39;00m:\n\u001b[1;32m--> 452\u001b[0m     \u001b[38;5;28;43mself\u001b[39;49m\u001b[38;5;241;43m.\u001b[39;49m\u001b[43mstop\u001b[49m\u001b[43m(\u001b[49m\u001b[43m)\u001b[49m\n",
      "File \u001b[1;32m~\\AppData\\Local\\Packages\\PythonSoftwareFoundation.Python.3.12_qbz5n2kfra8p0\\LocalCache\\local-packages\\Python312\\site-packages\\alpaca\\common\\websocket.py:456\u001b[0m, in \u001b[0;36mBaseStream.stop\u001b[1;34m(self)\u001b[0m\n\u001b[0;32m    454\u001b[0m \u001b[38;5;28;01mdef\u001b[39;00m \u001b[38;5;21mstop\u001b[39m(\u001b[38;5;28mself\u001b[39m) \u001b[38;5;241m-\u001b[39m\u001b[38;5;241m>\u001b[39m \u001b[38;5;28;01mNone\u001b[39;00m:\n\u001b[0;32m    455\u001b[0m \u001b[38;5;250m    \u001b[39m\u001b[38;5;124;03m\"\"\"Stops the websocket connection.\"\"\"\u001b[39;00m\n\u001b[1;32m--> 456\u001b[0m     \u001b[38;5;28;01mif\u001b[39;00m \u001b[38;5;28;43mself\u001b[39;49m\u001b[38;5;241;43m.\u001b[39;49m\u001b[43m_loop\u001b[49m\u001b[38;5;241;43m.\u001b[39;49m\u001b[43mis_running\u001b[49m():\n\u001b[0;32m    457\u001b[0m         asyncio\u001b[38;5;241m.\u001b[39mrun_coroutine_threadsafe(\u001b[38;5;28mself\u001b[39m\u001b[38;5;241m.\u001b[39mstop_ws(), \u001b[38;5;28mself\u001b[39m\u001b[38;5;241m.\u001b[39m_loop)\u001b[38;5;241m.\u001b[39mresult(\n\u001b[0;32m    458\u001b[0m             timeout\u001b[38;5;241m=\u001b[39m\u001b[38;5;241m5\u001b[39m\n\u001b[0;32m    459\u001b[0m         )\n",
      "\u001b[1;31mAttributeError\u001b[0m: 'NoneType' object has no attribute 'is_running'"
     ]
    }
   ],
   "source": [
    "from alpaca.data.live import StockDataStream\n",
    "\n",
    "stream = StockDataStream(API_KEY_ID,API_SECRET_KEY)\n",
    "\n",
    "async def handle_trade(data):\n",
    "    print(data)\n",
    "\n",
    "stream.subscribe_trades(handle_trade,\"SPY\")\n",
    "\n",
    "stream.run()\n",
    "\n"
   ]
  },
  {
   "cell_type": "code",
   "execution_count": null,
   "id": "5e446ad7-6cdb-4cdf-ba94-b84a2cd2fb90",
   "metadata": {},
   "outputs": [],
   "source": []
  }
 ],
 "metadata": {
  "kernelspec": {
   "display_name": "Python 3 (ipykernel)",
   "language": "python",
   "name": "python3"
  },
  "language_info": {
   "codemirror_mode": {
    "name": "ipython",
    "version": 3
   },
   "file_extension": ".py",
   "mimetype": "text/x-python",
   "name": "python",
   "nbconvert_exporter": "python",
   "pygments_lexer": "ipython3",
   "version": "3.12.4"
  }
 },
 "nbformat": 4,
 "nbformat_minor": 5
}
